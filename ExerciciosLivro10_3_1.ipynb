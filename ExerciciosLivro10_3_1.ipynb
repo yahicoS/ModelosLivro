{
  "nbformat": 4,
  "nbformat_minor": 0,
  "metadata": {
    "colab": {
      "provenance": [],
      "authorship_tag": "ABX9TyPl1t/6fK0h9Q08RZD0ATwL",
      "include_colab_link": true
    },
    "kernelspec": {
      "name": "python3",
      "display_name": "Python 3"
    },
    "language_info": {
      "name": "python"
    }
  },
  "cells": [
    {
      "cell_type": "markdown",
      "metadata": {
        "id": "view-in-github",
        "colab_type": "text"
      },
      "source": [
        "<a href=\"https://colab.research.google.com/github/yahicoS/ModelosLivro/blob/main/ExerciciosLivro10_3_1.ipynb\" target=\"_parent\"><img src=\"https://colab.research.google.com/assets/colab-badge.svg\" alt=\"Open In Colab\"/></a>"
      ]
    },
    {
      "cell_type": "markdown",
      "source": [
        "# Exercício 10.3.1"
      ],
      "metadata": {
        "id": "gGFMZgSVRxMd"
      }
    },
    {
      "cell_type": "code",
      "execution_count": null,
      "metadata": {
        "colab": {
          "base_uri": "https://localhost:8080/",
          "height": 279
        },
        "id": "2DEYQk8ERwBL",
        "outputId": "b5371ef6-abdc-4738-ebbf-71c15fa4362a"
      },
      "outputs": [
        {
          "output_type": "display_data",
          "data": {
            "text/plain": [
              "<Figure size 432x288 with 1 Axes>"
            ],
            "image/png": "[encoded data removed]"
          },
          "metadata": {
            "needs_background": "light"
          }
        }
      ],
      "source": [
        "#versão 2 de teste\n",
        "import numpy as np\n",
        "import matplotlib.pyplot as plt\n",
        "\n",
        "# Dados de Entrada\n",
        "k = 0.15 #                 [min^(-1)]\n",
        "Ca0 = 2 #mol/L\n",
        "Cb0 = 0 \n",
        "\n",
        "#definindo função y' = f(t,y) neste caso Ca' = f(Ca) e Cb' = f(Ca)\n",
        "def f(escolha,Ca):\n",
        "  if escolha == 1:\n",
        "    y = -k * Ca \n",
        "  elif escolha == 2:\n",
        "    y = k * Ca \n",
        "  return y\n",
        "\n",
        "\n",
        "\n",
        "\n",
        "#Definicões de passos e parâmetros para simulação\n",
        "n = 100 #número de passos\n",
        "tf = 50 #valor final de simulação\n",
        "h = tf/n #tamanho do passo\n",
        "t = np.linspace(0,tf,n+1) #Criando um vetor tempo até tf, com intervalos h\n",
        "\n",
        "\n",
        "\n",
        "\n",
        "#Cálculo por Euler\n",
        "CaEuler = (n + 1) * [0] #criando o vetor Concentração de A (Ca) com dimensão n + 1\n",
        "CbEuler = (n + 1) * [0] #criando o vetor Concentração de A (Ca) com dimensão n + 1\n",
        "CaEuler[0] = Ca0 # atribuidando o valor para o tempo zero (Condição Inicial)\n",
        "CbEuler[0] = Cb0\n",
        "for i in range(1,n+1):\n",
        "  CaEuler[i] = CaEuler[i-1] + f(1,CaEuler[i-1]) * h\n",
        "  CbEuler[i] = CbEuler[i-1] + f(2,CaEuler[i-1]) * h\n",
        "  \n",
        "\n",
        "#Cálculo por Runge-Kutta\n",
        "CaRK4 = (n + 1) * [0] #criando o vetor altura com dimensão n + 1\n",
        "CbRK4 = (n + 1) * [0] #criando o vetor altura com dimensão n + 1\n",
        "CaRK4[0] = Ca0 # atribuidando o valor para o tempo zero (Condição Inicial)\n",
        "CbRK4[0] = Cb0 # atribuidando o valor para o tempo zero (Condição Inicial)\n",
        "K1, K2, K3, K4 = 2 * [0], 2 * [0], 2 * [0], 2 * [0]\n",
        "for i in range(1,n+1):\n",
        "  for j in range (0,2):\n",
        "\n",
        "    #Cálculo das constantes do método de Runge-Kutta (K1,K2,K3,K4)\n",
        "    if j == 0:\n",
        "      K1[j] = f(1,CaRK4[i-1])\n",
        "      K2[j] = f(1,CaRK4[i-1]+(h * K1[j])/2)\n",
        "      K3[j] = f(1,CaRK4[i-1]+(h * K2[j])/2)\n",
        "      K4[j] = f(1,CaRK4[i-1]+ h * K3[j])\n",
        "      CaRK4[i] = CaRK4[i-1] + h/6 *(K1[j] + 2*K2[j] + 2*K3[j] + K4[j])\n",
        "    elif j == 1:\n",
        "      K1[j] = f(2,CaRK4[i-1])\n",
        "      K2[j] = f(2,CaRK4[i-1]+(h * K1[j])/2)\n",
        "      K3[j] = f(2,CaRK4[i-1]+(h * K2[j])/2)\n",
        "      K4[j] = f(2,CaRK4[i-1]+ h * K3[j])\n",
        "      CbRK4[i] = CbRK4[i-1] + h/6 *(K1[j] + 2*K2[j] + 2*K3[j] + K4[j])\n",
        "\n",
        "\n",
        "#Graficando as soluções pelos métodos de Euler e Runge-Kutta de quarta ordem\n",
        "\n",
        "\n",
        "\n",
        "\n",
        "\n",
        "figure = plt.plot()\n",
        "plt.plot(t,CaEuler,label=f\"Euler\",color = \"blue\")\n",
        "plt.plot(t,CbEuler,color=\"blue\")\n",
        "plt.plot(t,CaRK4,label=f\"Runge-Kutta\",color = \"red\")\n",
        "plt.plot(t,CbRK4,color=\"red\")\n",
        "plt.xlabel(r'Tempo  (min)', fontsize = 'medium')\n",
        "plt.ylabel(r'$C(t)$   ($\\mathrm{m}}$)', fontsize = 'medium')\n",
        "plt.text(40, 0.1, '$C_a (t)$', fontsize = 12)\n",
        "plt.text(40, 1.8, '$C_b (t)$', fontsize = 12)\n",
        "plt.legend()\n",
        "plt.grid()\n",
        "plt.savefig('Metodos.pdf',bbox_inches = 'tight')\n",
        "plt.show()"
      ]
    },
    {
      "cell_type": "code",
      "source": [
        "#solução pacotes prontos\n",
        "def ode(x,t):\n",
        "  y = 2 * [0] \n",
        "  y[0] = - k * x[0]\n",
        "  y[1] = k * x[0]\n",
        "  return y\n",
        "\n",
        "x = odeint(ode,h0,t)\n",
        "\n",
        "A = x[:,0]\n",
        "B = x[:,1]"
      ],
      "metadata": {
        "id": "y6Vd-LWujUOr"
      },
      "execution_count": null,
      "outputs": []
    }
  ]
}